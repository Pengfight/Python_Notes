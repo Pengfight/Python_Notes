{
 "cells": [
  {
   "cell_type": "code",
   "execution_count": 1,
   "metadata": {
    "collapsed": true
   },
   "outputs": [],
   "source": [
    "from collections import defaultdict, Counter\n",
    "import timeit"
   ]
  },
  {
   "cell_type": "code",
   "execution_count": 2,
   "metadata": {
    "collapsed": true
   },
   "outputs": [],
   "source": [
    "# count the number of word occurrences in a piece of text\n",
    "text = \"I need to count the number of word occurrences in a piece of text. How could I do that? \" \\\n",
    "       \"Python provides us with multiple ways to do the same thing. But only one way I find beautiful.\"\n"
   ]
  },
  {
   "cell_type": "code",
   "execution_count": 4,
   "metadata": {
    "collapsed": false
   },
   "outputs": [
    {
     "name": "stdout",
     "output_type": "stream",
     "text": [
      "cost time:  0.00020132567032860038\n",
      "dict:  {'the': 2, 'multiple': 1, 'in': 1, 'way': 1, 'I': 3, 'us': 1, 'occurrences': 1, 'Python': 1, 'need': 1, 'count': 1, 'number': 1, 'with': 1, 'provides': 1, 'How': 1, 'find': 1, 'text.': 1, 'But': 1, 'could': 1, 'ways': 1, 'that?': 1, 'of': 2, 'a': 1, 'do': 2, 'beautiful.': 1, 'only': 1, 'thing.': 1, 'word': 1, 'piece': 1, 'to': 2, 'same': 1, 'one': 1}\n"
     ]
    }
   ],
   "source": [
    "# Method 1--using dict\n",
    "t1 = timeit.default_timer()\n",
    "word_count_dict = {}\n",
    "for w in text.split(\" \"):\n",
    "    if w in word_count_dict:\n",
    "        word_count_dict[w] += 1\n",
    "    else:\n",
    "        word_count_dict[w] = 1\n",
    "t1_end = timeit.default_timer()\n",
    "print('cost time: ', str(t1_end - t1))\n",
    "print('dict: ', word_count_dict)"
   ]
  },
  {
   "cell_type": "code",
   "execution_count": 5,
   "metadata": {
    "collapsed": false
   },
   "outputs": [
    {
     "name": "stdout",
     "output_type": "stream",
     "text": [
      "cost time:  0.00012908528273669617\n",
      "defaultdict:  defaultdict(<class 'int'>, {'the': 2, 'multiple': 1, 'in': 1, 'way': 1, 'I': 3, 'us': 1, 'occurrences': 1, 'Python': 1, 'need': 1, 'count': 1, 'number': 1, 'with': 1, 'provides': 1, 'How': 1, 'find': 1, 'text.': 1, 'But': 1, 'could': 1, 'ways': 1, 'that?': 1, 'of': 2, 'a': 1, 'do': 2, 'beautiful.': 1, 'only': 1, 'thing.': 1, 'word': 1, 'piece': 1, 'to': 2, 'same': 1, 'one': 1})\n"
     ]
    }
   ],
   "source": [
    "# Method 2--using defaultdict\n",
    "t2 = timeit.default_timer()\n",
    "word_count_dict = defaultdict(int)\n",
    "for w in text.split(\" \"):\n",
    "    word_count_dict[w] += 1\n",
    "t2_end = timeit.default_timer()\n",
    "print('cost time: ', str(t2_end - t2))\n",
    "print('defaultdict: ', word_count_dict)"
   ]
  },
  {
   "cell_type": "code",
   "execution_count": 6,
   "metadata": {
    "collapsed": false
   },
   "outputs": [
    {
     "name": "stdout",
     "output_type": "stream",
     "text": [
      "cost time:  0.00016185004869129216\n",
      "Counter:  Counter({'I': 3, 'the': 2, 'of': 2, 'do': 2, 'to': 2, 'multiple': 1, 'in': 1, 'way': 1, 'us': 1, 'occurrences': 1, 'Python': 1, 'need': 1, 'count': 1, 'number': 1, 'with': 1, 'provides': 1, 'How': 1, 'find': 1, 'text.': 1, 'But': 1, 'could': 1, 'ways': 1, 'that?': 1, 'a': 1, 'beautiful.': 1, 'only': 1, 'thing.': 1, 'word': 1, 'piece': 1, 'same': 1, 'one': 1})\n"
     ]
    }
   ],
   "source": [
    "# Method 3--using Counter\n",
    "t3 = timeit.default_timer()\n",
    "word_count_dict = Counter()\n",
    "for w in text.split(\" \"):\n",
    "    word_count_dict[w] += 1\n",
    "t3_end = timeit.default_timer()\n",
    "print('cost time: ', str(t3_end - t3))\n",
    "print('Counter: ', word_count_dict)"
   ]
  },
  {
   "cell_type": "code",
   "execution_count": 7,
   "metadata": {
    "collapsed": false
   },
   "outputs": [
    {
     "name": "stdout",
     "output_type": "stream",
     "text": [
      "most common word:  [('I', 3), ('the', 2), ('of', 2), ('do', 2), ('to', 2), ('multiple', 1), ('in', 1), ('way', 1), ('us', 1), ('occurrences', 1)]\n"
     ]
    }
   ],
   "source": [
    "# get the most common word\n",
    "print('most common word: ', word_count_dict.most_common(10))"
   ]
  },
  {
   "cell_type": "code",
   "execution_count": 11,
   "metadata": {
    "collapsed": false
   },
   "outputs": [
    {
     "name": "stdout",
     "output_type": "stream",
     "text": [
      "cost time:  0.00019579908330058515\n",
      "Counter:  Counter({'I': 3, 'the': 2, 'of': 2, 'do': 2, 'to': 2, 'multiple': 1, 'in': 1, 'way': 1, 'us': 1, 'occurrences': 1, 'Python': 1, 'need': 1, 'count': 1, 'number': 1, 'with': 1, 'provides': 1, 'How': 1, 'find': 1, 'text.': 1, 'But': 1, 'could': 1, 'ways': 1, 'that?': 1, 'a': 1, 'beautiful.': 1, 'only': 1, 'thing.': 1, 'word': 1, 'piece': 1, 'same': 1, 'one': 1})\n"
     ]
    }
   ],
   "source": [
    "t3 = timeit.default_timer()\n",
    "# Second method using Counter\n",
    "word_counter = Counter(text.split(\" \"))\n",
    "t3_end = timeit.default_timer()\n",
    "print('cost time: ', str(t3_end - t3))\n",
    "print('Counter: ', word_counter)"
   ]
  },
  {
   "cell_type": "code",
   "execution_count": 12,
   "metadata": {
    "collapsed": false
   },
   "outputs": [
    {
     "name": "stdout",
     "output_type": "stream",
     "text": [
      "Counter({'c': 6, 'd': 5, 'a': 1, 'b': 1})\n",
      "Counter({1: 2, 2: 2, 3: 1, 4: 1, 5: 1})\n"
     ]
    }
   ],
   "source": [
    "# Count Characters\n",
    "print(Counter('abccccccddddd'))  \n",
    "# Count List elements\n",
    "print(Counter([1, 2, 3, 4, 5, 1, 2]))  "
   ]
  },
  {
   "cell_type": "code",
   "execution_count": 13,
   "metadata": {
    "collapsed": false
   },
   "outputs": [
    {
     "name": "stdout",
     "output_type": "stream",
     "text": [
      "defaultdict(<class 'list'>, {'color': ['blue', 'orange', 'yellow'], 'fruit': ['banana', 'orange', 'banana']})\n"
     ]
    }
   ],
   "source": [
    "# more defaultdict examples\n",
    "s = [('color', 'blue'), ('color', 'orange'), ('color', 'yellow'), ('fruit', 'banana'), ('fruit', 'orange'),\n",
    "     ('fruit', 'banana')]\n",
    "d = defaultdict(list)\n",
    "for k, v in s:\n",
    "    d[k].append(v)\n",
    "print(d)  "
   ]
  },
  {
   "cell_type": "code",
   "execution_count": 14,
   "metadata": {
    "collapsed": false
   },
   "outputs": [
    {
     "name": "stdout",
     "output_type": "stream",
     "text": [
      "defaultdict(<class 'set'>, {'color': {'blue', 'yellow', 'orange'}, 'fruit': {'banana', 'orange'}})\n"
     ]
    }
   ],
   "source": [
    "# using set instead of list\n",
    "s = [('color', 'blue'), ('color', 'orange'), ('color', 'yellow'), ('fruit', 'banana'), ('fruit', 'orange'),\n",
    "     ('fruit', 'banana')]\n",
    "d = defaultdict(set)\n",
    "for k, v in s:\n",
    "    d[k].add(v)\n",
    "print(d)"
   ]
  },
  {
   "cell_type": "code",
   "execution_count": 15,
   "metadata": {
    "collapsed": false
   },
   "outputs": [
    {
     "name": "stdout",
     "output_type": "stream",
     "text": [
      "defaultdict(None, {'name': 'jonh', 'age': 2})\n"
     ]
    }
   ],
   "source": [
    "d = defaultdict()\n",
    "d['age'] = 2\n",
    "d['name'] = 'jonh'\n",
    "print(d)"
   ]
  },
  {
   "cell_type": "code",
   "execution_count": 16,
   "metadata": {
    "collapsed": false
   },
   "outputs": [
    {
     "name": "stdout",
     "output_type": "stream",
     "text": [
      "{'color': ['blue', 'orange', 'yellow'], 'fruit': ['banana', 'orange', 'banana']}\n"
     ]
    }
   ],
   "source": [
    "a = dict()\n",
    "for k, v in s:\n",
    "    a.setdefault(k, []).append(v)\n",
    "print(a)"
   ]
  },
  {
   "cell_type": "code",
   "execution_count": 17,
   "metadata": {
    "collapsed": false
   },
   "outputs": [
    {
     "name": "stdout",
     "output_type": "stream",
     "text": [
      "Counter({'2': 1, '3': 1})\n"
     ]
    }
   ],
   "source": [
    "print(Counter(('2', '3')))"
   ]
  },
  {
   "cell_type": "code",
   "execution_count": 18,
   "metadata": {
    "collapsed": false
   },
   "outputs": [
    {
     "name": "stdout",
     "output_type": "stream",
     "text": [
      "Counter({'c': 3, 'a': 2})\n"
     ]
    }
   ],
   "source": [
    "print(Counter({'a': 2, 'c': 3}))"
   ]
  },
  {
   "cell_type": "code",
   "execution_count": 20,
   "metadata": {
    "collapsed": false
   },
   "outputs": [
    {
     "data": {
      "text/plain": [
       "3713082714465905806"
      ]
     },
     "execution_count": 20,
     "metadata": {},
     "output_type": "execute_result"
    }
   ],
   "source": [
    "a = (2, 1)\n",
    "a.__hash__()"
   ]
  },
  {
   "cell_type": "code",
   "execution_count": 21,
   "metadata": {
    "collapsed": false
   },
   "outputs": [
    {
     "ename": "TypeError",
     "evalue": "'NoneType' object is not callable",
     "output_type": "error",
     "traceback": [
      "\u001b[0;31m---------------------------------------------------------------------------\u001b[0m",
      "\u001b[0;31mTypeError\u001b[0m                                 Traceback (most recent call last)",
      "\u001b[0;32m<ipython-input-21-51f1a3c75b8b>\u001b[0m in \u001b[0;36m<module>\u001b[0;34m()\u001b[0m\n\u001b[1;32m      1\u001b[0m \u001b[0mb\u001b[0m\u001b[1;33m=\u001b[0m\u001b[1;33m[\u001b[0m\u001b[1;36m1\u001b[0m\u001b[1;33m,\u001b[0m\u001b[1;36m2\u001b[0m\u001b[1;33m]\u001b[0m\u001b[1;33m\u001b[0m\u001b[0m\n\u001b[0;32m----> 2\u001b[0;31m \u001b[0mb\u001b[0m\u001b[1;33m.\u001b[0m\u001b[0m__hash__\u001b[0m\u001b[1;33m(\u001b[0m\u001b[1;33m)\u001b[0m\u001b[1;33m\u001b[0m\u001b[0m\n\u001b[0m",
      "\u001b[0;31mTypeError\u001b[0m: 'NoneType' object is not callable"
     ]
    }
   ],
   "source": [
    "b=[1,2]\n",
    "b.__hash__()"
   ]
  },
  {
   "cell_type": "code",
   "execution_count": 24,
   "metadata": {
    "collapsed": false
   },
   "outputs": [
    {
     "name": "stdout",
     "output_type": "stream",
     "text": [
      "Counter({'dogs': 8, 'cats': 4})\n"
     ]
    }
   ],
   "source": [
    "c = Counter(cats=4, dogs=8)\n",
    "print(c)"
   ]
  },
  {
   "cell_type": "code",
   "execution_count": 27,
   "metadata": {
    "collapsed": false
   },
   "outputs": [
    {
     "data": {
      "text/plain": [
       "['a', 'a', 'a', 'a', 'b', 'b']"
      ]
     },
     "execution_count": 27,
     "metadata": {},
     "output_type": "execute_result"
    }
   ],
   "source": [
    "c = Counter(a=4, b=2, c=0, d=-2)\n",
    "sorted(c.elements())"
   ]
  },
  {
   "cell_type": "code",
   "execution_count": 33,
   "metadata": {
    "collapsed": false
   },
   "outputs": [
    {
     "name": "stdout",
     "output_type": "stream",
     "text": [
      "Counter({'a': 3, 'b': 0, 'c': -3, 'd': -6})\n"
     ]
    }
   ],
   "source": [
    "c = Counter(a=4, b=2, c=0, d=-2)\n",
    "d = Counter(a=1, b=2, c=3, d=4)\n",
    "c.subtract(d)\n",
    "print(c)"
   ]
  },
  {
   "cell_type": "code",
   "execution_count": 34,
   "metadata": {
    "collapsed": false
   },
   "outputs": [
    {
     "data": {
      "text/plain": [
       "['c', 'a', 'b', 'd']"
      ]
     },
     "execution_count": 34,
     "metadata": {},
     "output_type": "execute_result"
    }
   ],
   "source": [
    "list(c)"
   ]
  },
  {
   "cell_type": "code",
   "execution_count": 35,
   "metadata": {
    "collapsed": false
   },
   "outputs": [
    {
     "data": {
      "text/plain": [
       "{'a', 'b', 'c', 'd'}"
      ]
     },
     "execution_count": 35,
     "metadata": {},
     "output_type": "execute_result"
    }
   ],
   "source": [
    "set(c)"
   ]
  },
  {
   "cell_type": "code",
   "execution_count": 38,
   "metadata": {
    "collapsed": false
   },
   "outputs": [
    {
     "name": "stdout",
     "output_type": "stream",
     "text": [
      "Counter({'a': 3, 'b': 0, 'c': -3, 'd': -6})\n"
     ]
    },
    {
     "data": {
      "text/plain": [
       "Counter({'c': 3, 'd': 6})"
      ]
     },
     "execution_count": 38,
     "metadata": {},
     "output_type": "execute_result"
    }
   ],
   "source": [
    "print(c)\n",
    "+c\n",
    "-c"
   ]
  },
  {
   "cell_type": "code",
   "execution_count": 39,
   "metadata": {
    "collapsed": false
   },
   "outputs": [
    {
     "name": "stdout",
     "output_type": "stream",
     "text": [
      "Counter({'a': 4, 'b': 3})\n",
      "Counter({'a': 2})\n",
      "Counter({'a': 1, 'b': 1})\n",
      "Counter({'a': 3, 'b': 2})\n"
     ]
    }
   ],
   "source": [
    "c = Counter(a=3, b=1)\n",
    "d = Counter(a=1, b=2)\n",
    "# add two counters together:  c[x] + d[x]\n",
    "print(c + d)                     \n",
    "# subtract (keeping only positive counts)\n",
    "print(c - d )                      \n",
    "# intersection:  min(c[x], d[x]) # doctest: +SKIP\n",
    "print(c & d)                    \n",
    "# union:  max(c[x], d[x])\n",
    "print(c | d)                   "
   ]
  },
  {
   "cell_type": "code",
   "execution_count": 29,
   "metadata": {
    "collapsed": false
   },
   "outputs": [
    {
     "data": {
      "text/plain": [
       "dict_items([('c', 0), ('a', 4), ('b', 2), ('d', -2)])"
      ]
     },
     "execution_count": 29,
     "metadata": {},
     "output_type": "execute_result"
    }
   ],
   "source": [
    "c.items()"
   ]
  },
  {
   "cell_type": "code",
   "execution_count": 30,
   "metadata": {
    "collapsed": false
   },
   "outputs": [
    {
     "data": {
      "text/plain": [
       "dict_values([0, 4, 2, -2])"
      ]
     },
     "execution_count": 30,
     "metadata": {},
     "output_type": "execute_result"
    }
   ],
   "source": [
    "c.values()"
   ]
  },
  {
   "cell_type": "code",
   "execution_count": 31,
   "metadata": {
    "collapsed": false
   },
   "outputs": [
    {
     "data": {
      "text/plain": [
       "4"
      ]
     },
     "execution_count": 31,
     "metadata": {},
     "output_type": "execute_result"
    }
   ],
   "source": [
    "sum(c.values())"
   ]
  },
  {
   "cell_type": "code",
   "execution_count": null,
   "metadata": {
    "collapsed": true
   },
   "outputs": [],
   "source": []
  }
 ],
 "metadata": {
  "anaconda-cloud": {},
  "kernelspec": {
   "display_name": "Python [conda env:Anaconda3]",
   "language": "python",
   "name": "conda-env-Anaconda3-py"
  },
  "language_info": {
   "codemirror_mode": {
    "name": "ipython",
    "version": 3
   },
   "file_extension": ".py",
   "mimetype": "text/x-python",
   "name": "python",
   "nbconvert_exporter": "python",
   "pygments_lexer": "ipython3",
   "version": "3.5.2"
  }
 },
 "nbformat": 4,
 "nbformat_minor": 1
}
