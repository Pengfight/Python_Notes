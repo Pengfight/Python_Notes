{
 "cells": [
  {
   "cell_type": "markdown",
   "metadata": {},
   "source": [
    "### 利用 Numba 加速 Python 代码"
   ]
  },
  {
   "cell_type": "markdown",
   "metadata": {},
   "source": [
    "#### 例1：加速循环\n",
    "\n",
    "这是一个采用插入排序算法来对 10000 个整数进行排序的例子"
   ]
  },
  {
   "cell_type": "code",
   "execution_count": 5,
   "metadata": {
    "collapsed": true
   },
   "outputs": [],
   "source": [
    "import time\n",
    "import random\n",
    "\n",
    "num_loops = 50\n",
    "len_of_list = 100000\n",
    "\n",
    "def insertion_sort(arr):\n",
    "    for i in range(len(arr)):\n",
    "        cursor = arr[i]\n",
    "        pos = i\n",
    "        \n",
    "        while pos > 0 and arr[pos-1] > cursor:\n",
    "            # 从后往前对比，从小到大排序\n",
    "            arr[pos] = arr[pos-1]\n",
    "            pos = pos-1\n",
    "        # 找到当前元素的位置\n",
    "        arr[pos] = cursor\n",
    "    return arr"
   ]
  },
  {
   "cell_type": "code",
   "execution_count": 6,
   "metadata": {
    "collapsed": false
   },
   "outputs": [
    {
     "name": "stdout",
     "output_type": "stream",
     "text": [
      "Average time=22.84399790763855\n"
     ]
    }
   ],
   "source": [
    "start = time.time()\n",
    "list_of_numbers = list()\n",
    "for i in range(len_of_list):\n",
    "    num = random.randint(0, len_of_list)\n",
    "    list_of_numbers.append(num)\n",
    "\n",
    "for i in range(num_loops):\n",
    "    result = insertion_sort(list_of_numbers)\n",
    "\n",
    "end = time.time()\n",
    "\n",
    "run_time = end-start\n",
    "print('Average time={}'.format(run_time/num_loops))"
   ]
  },
  {
   "cell_type": "code",
   "execution_count": null,
   "metadata": {
    "collapsed": true
   },
   "outputs": [],
   "source": []
  },
  {
   "cell_type": "markdown",
   "metadata": {},
   "source": [
    "添加两行代码，来使用 Numba 加速代码"
   ]
  },
  {
   "cell_type": "code",
   "execution_count": 8,
   "metadata": {
    "collapsed": true
   },
   "outputs": [],
   "source": [
    "import time\n",
    "import random\n",
    "from numba import jit\n",
    "\n",
    "num_loops = 50\n",
    "len_of_list = 100000\n",
    "\n",
    "@jit(nopython=True)\n",
    "def insertion_sort(arr):\n",
    "    for i in range(len(arr)):\n",
    "        cursor = arr[i]\n",
    "        pos = i\n",
    "        \n",
    "        while pos > 0 and arr[pos-1] > cursor:\n",
    "            # 从后往前对比，从小到大排序\n",
    "            arr[pos] = arr[pos-1]\n",
    "            pos = pos-1\n",
    "        # 找到当前元素的位置\n",
    "        arr[pos] = cursor\n",
    "    return arr"
   ]
  },
  {
   "cell_type": "code",
   "execution_count": 9,
   "metadata": {
    "collapsed": false
   },
   "outputs": [
    {
     "name": "stdout",
     "output_type": "stream",
     "text": [
      "Average time=0.09438572406768798\n"
     ]
    }
   ],
   "source": [
    "start = time.time()\n",
    "list_of_numbers = list()\n",
    "for i in range(len_of_list):\n",
    "    num = random.randint(0, len_of_list)\n",
    "    list_of_numbers.append(num)\n",
    "\n",
    "for i in range(num_loops):\n",
    "    result = insertion_sort(list_of_numbers)\n",
    "\n",
    "end = time.time()\n",
    "\n",
    "run_time = end-start\n",
    "print('Average time={}'.format(run_time/num_loops))"
   ]
  },
  {
   "cell_type": "code",
   "execution_count": null,
   "metadata": {
    "collapsed": true
   },
   "outputs": [],
   "source": []
  },
  {
   "cell_type": "markdown",
   "metadata": {},
   "source": [
    "#### 例2：加速 Numpy 运算\n",
    "\n",
    "第二个例子就是对 Numpy 运算的加速，这里创建几个非常大的数组进行运算"
   ]
  },
  {
   "cell_type": "code",
   "execution_count": 10,
   "metadata": {
    "collapsed": true
   },
   "outputs": [],
   "source": [
    "import time\n",
    "import numpy as np\n",
    "\n",
    "num_loops = 50\n",
    "img1 = np.ones((1000, 1000), np.int64) * 5\n",
    "img2 = np.ones((1000, 1000), np.int64) * 10\n",
    "img3 = np.ones((1000, 1000), np.int64) * 15\n",
    "\n",
    "def add_arrays(img1, img2, img3):\n",
    "    return np.square(img1+img2+img3)"
   ]
  },
  {
   "cell_type": "code",
   "execution_count": 13,
   "metadata": {
    "collapsed": false
   },
   "outputs": [
    {
     "name": "stdout",
     "output_type": "stream",
     "text": [
      "Average time for normal numpy operation=0.040156774520874024\n"
     ]
    }
   ],
   "source": [
    "start1 = time.time()\n",
    "for i in range(num_loops):\n",
    "    result = add_arrays(img1, img2, img3)\n",
    "end1 = time.time()\n",
    "run_time1 = end1 - start1\n",
    "print('Average time for normal numpy operation={}'.format(run_time1/num_loops))"
   ]
  },
  {
   "cell_type": "code",
   "execution_count": 14,
   "metadata": {
    "collapsed": false
   },
   "outputs": [],
   "source": [
    "# numba 加速\n",
    "from numba import vectorize, int64\n",
    "\n",
    "@vectorize([int64(int64,int64,int64)], target='parallel')\n",
    "def add_arrays_numba(img1, img2, img3):\n",
    "    return np.square(img1+img2+img3)"
   ]
  },
  {
   "cell_type": "code",
   "execution_count": 15,
   "metadata": {
    "collapsed": false
   },
   "outputs": [
    {
     "name": "stdout",
     "output_type": "stream",
     "text": [
      "Average time using numba accelerating=0.007735490798950195\n"
     ]
    }
   ],
   "source": [
    "start2 = time.time()\n",
    "for i in range(num_loops):\n",
    "    result = add_arrays_numba(img1, img2, img3)\n",
    "end2 = time.time()\n",
    "run_time2 = end2 - start2\n",
    "print('Average time using numba accelerating={}'.format(run_time2/num_loops))"
   ]
  },
  {
   "cell_type": "code",
   "execution_count": null,
   "metadata": {
    "collapsed": true
   },
   "outputs": [],
   "source": []
  }
 ],
 "metadata": {
  "anaconda-cloud": {},
  "kernelspec": {
   "display_name": "Python [conda env:Anaconda3]",
   "language": "python",
   "name": "conda-env-Anaconda3-py"
  },
  "language_info": {
   "codemirror_mode": {
    "name": "ipython",
    "version": 3
   },
   "file_extension": ".py",
   "mimetype": "text/x-python",
   "name": "python",
   "nbconvert_exporter": "python",
   "pygments_lexer": "ipython3",
   "version": "3.5.2"
  }
 },
 "nbformat": 4,
 "nbformat_minor": 1
}
